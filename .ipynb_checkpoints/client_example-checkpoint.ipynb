{
 "cells": [
  {
   "cell_type": "code",
   "execution_count": 18,
   "id": "6b7e7619-bb36-4895-90a5-b053d0a8370c",
   "metadata": {},
   "outputs": [],
   "source": [
    "import requests\n",
    "import json"
   ]
  },
  {
   "cell_type": "code",
   "execution_count": 53,
   "id": "18c15547-495e-41da-9fef-b344c8874063",
   "metadata": {},
   "outputs": [],
   "source": [
    "class Translator:\n",
    "    def __init__(self, host_url, translation_service = 'google'):\n",
    "        if translation_service.lower() not in {'google', 'mozilla', 'papago'}:\n",
    "            raise KeyError(\"Invalid translation service\")\n",
    "        self.host_url = host_url\n",
    "        self.translation_service = translation_service\n",
    "\n",
    "    def set_translation_service(self, translation_service):\n",
    "        if translation_service.lower() not in {'google', 'mozilla', 'papago'}:\n",
    "            raise KeyError(\"Invalid translation service\")\n",
    "        self.translation_service = translation_service \n",
    "\n",
    "    def get_translation_service(self):\n",
    "        return self.translation_service\n",
    "        \n",
    "    def translate(self, text):\n",
    "        try:\n",
    "            response = requests.post(\n",
    "                url=self.host_url,\n",
    "                json={'text': text, 'translation_service': self.translation_service})\n",
    "            \n",
    "            response.raise_for_status()\n",
    "            result = response.json()\n",
    "            return result['translated_text']\n",
    "        except requests.exceptions.HTTPError as errh:\n",
    "            print(f\"HTTP Error: {errh}\")\n",
    "        except requests.exceptions.ConnectionError as errc:\n",
    "            print(f\"Error Connecting: {errc}\")\n",
    "        except requests.exceptions.Timeout as errt:\n",
    "            print(f\"Timeout Error: {errt}\")\n",
    "        except requests.exceptions.RequestException as err:\n",
    "            print(f\"An unexpected error occurred: {err}\")"
   ]
  },
  {
   "cell_type": "code",
   "execution_count": 54,
   "id": "2ec17467-38cd-4904-9d0c-fb26a2b6b8b6",
   "metadata": {},
   "outputs": [
    {
     "data": {
      "text/plain": [
       "'아주 간단하게 지금까지 쓰여진 가사 중 가장 아름다운 가사 중 하나이자 가장 이상한 가사이기도 합니다. 여러 층의 초현실적인 상징으로 가득 찬 이 작품은 천재 서정가 Van Dyke Parks(일부 매우 불법적인 물질의 도움을 받아)의 정말 독특한 상상력의 산물입니다.'"
      ]
     },
     "execution_count": 54,
     "metadata": {},
     "output_type": "execute_result"
    }
   ],
   "source": [
    "# settings (English->korean만 구현)\n",
    "url = 'http://localhost:8895/translation'\n",
    "translation_service = 'google'\n",
    "translator = Translator(url, translation_service)\n",
    "\n",
    "text = \"Quite simply one of the most beautiful lyrics ever written – and one of the strangest too. Full of layers of surreal symbolism, it’s the product of the truly unique imagination of the lyrical genius Van Dyke Parks (with the help of some very illegal substances).\"\n",
    "translator.translate(text)"
   ]
  },
  {
   "cell_type": "code",
   "execution_count": 55,
   "id": "72af57cb-6c5d-4108-9330-f76ae9169b5d",
   "metadata": {},
   "outputs": [
    {
     "data": {
      "text/plain": [
       "'google'"
      ]
     },
     "execution_count": 55,
     "metadata": {},
     "output_type": "execute_result"
    }
   ],
   "source": [
    "translator.get_translation_service()"
   ]
  },
  {
   "cell_type": "code",
   "execution_count": 56,
   "id": "bc52c1df-e893-4101-bc3d-70e9462dfd14",
   "metadata": {},
   "outputs": [],
   "source": [
    "translator.set_translation_service('papago')"
   ]
  },
  {
   "cell_type": "code",
   "execution_count": 57,
   "id": "beefb9cf-90dd-4302-943d-8355f4d9e4ee",
   "metadata": {},
   "outputs": [
    {
     "data": {
      "text/plain": [
       "'지금까지 쓴 가사 중 가장 아름다운 것 중 하나인데, 가장 이상한 것 중 하나이기도 하다. 초현실적 상징성의 층층이 가득한 이 작품은 서정적 천재 반 다이크 파크스(Van Dyke Parks)의 진정한 독특한 상상력의 산물이다.'"
      ]
     },
     "execution_count": 57,
     "metadata": {},
     "output_type": "execute_result"
    }
   ],
   "source": [
    "translator.translate(text)"
   ]
  },
  {
   "cell_type": "code",
   "execution_count": null,
   "id": "ced71526-9814-4804-9b79-238933642c36",
   "metadata": {},
   "outputs": [],
   "source": []
  }
 ],
 "metadata": {
  "kernelspec": {
   "display_name": "Python 3 (ipykernel)",
   "language": "python",
   "name": "python3"
  },
  "language_info": {
   "codemirror_mode": {
    "name": "ipython",
    "version": 3
   },
   "file_extension": ".py",
   "mimetype": "text/x-python",
   "name": "python",
   "nbconvert_exporter": "python",
   "pygments_lexer": "ipython3",
   "version": "3.11.4"
  }
 },
 "nbformat": 4,
 "nbformat_minor": 5
}
