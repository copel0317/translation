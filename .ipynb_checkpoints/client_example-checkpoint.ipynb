{
 "cells": [
  {
   "cell_type": "code",
   "execution_count": 1,
   "id": "6b7e7619-bb36-4895-90a5-b053d0a8370c",
   "metadata": {},
   "outputs": [],
   "source": [
    "import requests\n",
    "import json"
   ]
  },
  {
   "cell_type": "code",
   "execution_count": 36,
   "id": "2ec17467-38cd-4904-9d0c-fb26a2b6b8b6",
   "metadata": {},
   "outputs": [],
   "source": [
    "# settings (English->korean만 구현)\n",
    "url = 'http://localhost:8895/translation'\n",
    "translation_service = 'model' #papago도 가능\n",
    "text = \"She sells sea shells on the sea sells\""
   ]
  },
  {
   "cell_type": "code",
   "execution_count": 37,
   "id": "ced71526-9814-4804-9b79-238933642c36",
   "metadata": {},
   "outputs": [
    {
     "data": {
      "text/plain": [
       "{'original_text': 'She sells sea shells on the sea sells',\n",
       " 'translated_text': '그녀는 바다 위에 있는 해껍질을 팔고 있어요.',\n",
       " 'translation_service': 'model'}"
      ]
     },
     "execution_count": 37,
     "metadata": {},
     "output_type": "execute_result"
    }
   ],
   "source": [
    "response = requests.post(\n",
    "    url=url,\n",
    "    json={'text': text, \n",
    "          'translation_service': translation_service})\n",
    "result = response.json()\n",
    "result"
   ]
  },
  {
   "cell_type": "code",
   "execution_count": null,
   "id": "03d57662-1684-4d2f-9ae2-48bc99532e3a",
   "metadata": {},
   "outputs": [],
   "source": []
  }
 ],
 "metadata": {
  "kernelspec": {
   "display_name": "Python 3 (ipykernel)",
   "language": "python",
   "name": "python3"
  },
  "language_info": {
   "codemirror_mode": {
    "name": "ipython",
    "version": 3
   },
   "file_extension": ".py",
   "mimetype": "text/x-python",
   "name": "python",
   "nbconvert_exporter": "python",
   "pygments_lexer": "ipython3",
   "version": "3.11.4"
  }
 },
 "nbformat": 4,
 "nbformat_minor": 5
}
